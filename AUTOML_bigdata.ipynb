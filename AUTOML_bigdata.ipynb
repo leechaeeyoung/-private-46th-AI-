{
 "cells": [
  {
   "cell_type": "code",
   "execution_count": 1,
   "id": "bc61c7b3",
   "metadata": {},
   "outputs": [],
   "source": [
    "import os\n",
    "import glob\n",
    "import geopandas as gpd\n",
    "import random\n",
    "import seaborn as sns\n",
    "import numpy as np\n",
    "import pandas as pd\n",
    "from catboost import CatBoostRegressor, Pool\n",
    "pd.set_option('display.max_columns', None)\n",
    "\n",
    "def seed_everything(seed):\n",
    "    random.seed(seed)\n",
    "    os.environ['PYTHONHASHSEED'] = str(seed)\n",
    "    np.random.seed(seed)\n",
    "\n",
    "seed_everything(42)\n",
    "\n",
    "import warnings\n",
    "warnings.filterwarnings('ignore')\n",
    "\n",
    "train_df = pd.read_csv('open/train.csv') \n",
    "test_df = pd.read_csv('open/test.csv')"
   ]
  },
  {
   "cell_type": "code",
   "execution_count": 2,
   "id": "f0b21402",
   "metadata": {},
   "outputs": [],
   "source": [
    "import numpy as np\n",
    "from supervised import AutoML"
   ]
  },
  {
   "cell_type": "code",
   "execution_count": 3,
   "id": "d87b7014-4d14-44e9-b4b4-4d302f0b8427",
   "metadata": {},
   "outputs": [],
   "source": [
    "# 각 gpkg 파일은 분리되어 있는것 같다. 합쳐주기 위해서 folder path를 받아오자 \n",
    "old_f_path = r'open/external_open/대구 빅데이터 마트 데이터/7. 안전/2. 보행노인사고 다발지역'\n",
    "jaywalk_f_path = r'open/external_open/대구 빅데이터 마트 데이터/7. 안전/5. 보행자무단횡단사고 다발지역'\n",
    "ice_f_path = r'open/external_open/대구 빅데이터 마트 데이터/7. 안전/8. 결빙사고 다발지역'\n",
    "truck_f_path = r'open/external_open/대구 빅데이터 마트 데이터/7. 안전/9. 화물차사고 다발지역'\n",
    "walker_f_path = r'open/external_open/대구 빅데이터 마트 데이터/7. 안전/11. 보행자사고 다발지역'\n",
    "\n",
    "# 각 folder path 내에서 gpkg 확장자 파일의 이름을 추출해서 list로 만들자 \n",
    "old_fnames = glob.glob(f'{old_f_path}/*.gpkg')\n",
    "jaywalk_fnames = glob.glob(f'{jaywalk_f_path}/*.gpkg')\n",
    "ice_fnames = glob.glob(f'{ice_f_path}/*.gpkg')\n",
    "truck_fnames = glob.glob(f'{truck_f_path}/*.gpkg')\n",
    "walker_fnames = glob.glob(f'{walker_f_path}/*.gpkg')\n",
    "\n",
    "# fnames 변수의 list를 만들자 \n",
    "fname_list = [old_fnames, jaywalk_fnames, ice_fnames, truck_fnames, walker_fnames]"
   ]
  },
  {
   "cell_type": "code",
   "execution_count": 4,
   "id": "5b4d0db1-dbf1-48d4-b95e-8ea673185932",
   "metadata": {},
   "outputs": [],
   "source": [
    "# gdf_merge 함수 선언\n",
    "# 기능 : filenames 경로의 gpkg 파일을 받아서 geopandas 형식의 dataframe으로 read하고 분리된 파일을 병합하는 함수\n",
    "# input - filenames : mesge하려는 gpkg 파일 경로를 item으로 하는 list\n",
    "# output - merged_df(병합된 df), gdfs (df의 각각 list ~ 선택)\n",
    "\n",
    "def gpd_merge(file_names):\n",
    "\n",
    "    gdfs = []\n",
    "\n",
    "    # Load each GeoPackage file in the list\n",
    "    for file_name in file_names:\n",
    "        try:\n",
    "            gdf = gpd.read_file(file_name, encoding='cp949')\n",
    "            \n",
    "            gdf = gdf.dropna()\n",
    "\n",
    "            gdfs.append(gdf)\n",
    "\n",
    "            print(f\"Loaded GeoPackage file: {file_name}\")\n",
    "            print(f\"Number of rows after removing missing values: {len(gdf)}\")\n",
    "        except Exception as e:\n",
    "            print(f\"Error loading file {file_name}: {e}\")\n",
    "\n",
    "    # 좌표계 변환 : EPSG:5179 -> EPSG:4326\n",
    "    merged_gdf = pd.concat(gdfs, axis=0)\n",
    "    merged_gdf.geometry = merged_gdf.geometry.to_crs('EPSG:4326')\n",
    "\n",
    "    # geometry 열로부터 위도, 경도 열을 추가함 (multipoligon의 center?)\n",
    "    merged_gdf['위도'] = merged_gdf['geometry'].apply(lambda geom: geom.centroid.y if geom.geom_type == 'Point' else geom.centroid.y)\n",
    "    merged_gdf['경도'] = merged_gdf['geometry'].apply(lambda geom: geom.centroid.x if geom.geom_type == 'Point' else geom.centroid.x)\n",
    "\n",
    "    return merged_gdf"
   ]
  },
  {
   "cell_type": "code",
   "execution_count": 5,
   "id": "85ccf18f-e7d7-4d0a-8aad-9f7db2eed919",
   "metadata": {},
   "outputs": [
    {
     "name": "stdout",
     "output_type": "stream",
     "text": [
      "Loaded GeoPackage file: open/external_open/대구 빅데이터 마트 데이터/7. 안전/2. 보행노인사고 다발지역/보행노인사고 다발지역_300.gpkg\n",
      "Number of rows after removing missing values: 23\n",
      "Loaded GeoPackage file: open/external_open/대구 빅데이터 마트 데이터/7. 안전/2. 보행노인사고 다발지역/보행노인사고 다발지역_100.gpkg\n",
      "Number of rows after removing missing values: 64\n",
      "Loaded GeoPackage file: open/external_open/대구 빅데이터 마트 데이터/7. 안전/2. 보행노인사고 다발지역/보행노인사고 다발지역_500.gpkg\n",
      "Number of rows after removing missing values: 14\n",
      "Loaded GeoPackage file: open/external_open/대구 빅데이터 마트 데이터/7. 안전/5. 보행자무단횡단사고 다발지역/보행자무단횡단사고 다발지역_500.gpkg\n",
      "Number of rows after removing missing values: 48\n",
      "Loaded GeoPackage file: open/external_open/대구 빅데이터 마트 데이터/7. 안전/5. 보행자무단횡단사고 다발지역/보행자무단횡단사고 다발지역_100.gpkg\n",
      "Number of rows after removing missing values: 378\n",
      "Loaded GeoPackage file: open/external_open/대구 빅데이터 마트 데이터/7. 안전/5. 보행자무단횡단사고 다발지역/보행자무단횡단사고 다발지역_300.gpkg\n",
      "Number of rows after removing missing values: 83\n",
      "Loaded GeoPackage file: open/external_open/대구 빅데이터 마트 데이터/7. 안전/8. 결빙사고 다발지역/결빙사고 다발지역 _500.gpkg\n",
      "Number of rows after removing missing values: 6\n",
      "Loaded GeoPackage file: open/external_open/대구 빅데이터 마트 데이터/7. 안전/8. 결빙사고 다발지역/결빙사고 다발지역 _100.gpkg\n",
      "Number of rows after removing missing values: 30\n",
      "Loaded GeoPackage file: open/external_open/대구 빅데이터 마트 데이터/7. 안전/8. 결빙사고 다발지역/결빙사고 다발지역 _300.gpkg\n",
      "Number of rows after removing missing values: 8\n",
      "Loaded GeoPackage file: open/external_open/대구 빅데이터 마트 데이터/7. 안전/9. 화물차사고 다발지역/화물차사고 다발지역_100.gpkg\n",
      "Number of rows after removing missing values: 202\n",
      "Loaded GeoPackage file: open/external_open/대구 빅데이터 마트 데이터/7. 안전/9. 화물차사고 다발지역/화물차사고 다발지역_300.gpkg\n",
      "Number of rows after removing missing values: 70\n",
      "Loaded GeoPackage file: open/external_open/대구 빅데이터 마트 데이터/7. 안전/9. 화물차사고 다발지역/화물차사고 다발지역_500.gpkg\n",
      "Number of rows after removing missing values: 43\n",
      "Loaded GeoPackage file: open/external_open/대구 빅데이터 마트 데이터/7. 안전/11. 보행자사고 다발지역/보행자사고 다발지역_500.gpkg\n",
      "Number of rows after removing missing values: 71\n",
      "Loaded GeoPackage file: open/external_open/대구 빅데이터 마트 데이터/7. 안전/11. 보행자사고 다발지역/보행자사고 다발지역_100.gpkg\n",
      "Number of rows after removing missing values: 287\n",
      "Loaded GeoPackage file: open/external_open/대구 빅데이터 마트 데이터/7. 안전/11. 보행자사고 다발지역/보행자사고 다발지역_300.gpkg\n",
      "Number of rows after removing missing values: 94\n"
     ]
    }
   ],
   "source": [
    "old_df     = gpd_merge(old_fnames)\n",
    "jaywalk_df = gpd_merge(jaywalk_fnames)\n",
    "ice_df     = gpd_merge(ice_fnames)\n",
    "truck_df   = gpd_merge(truck_fnames)\n",
    "walker_df  = gpd_merge(walker_fnames)"
   ]
  },
  {
   "cell_type": "code",
   "execution_count": 6,
   "id": "ae8c52b3-242a-4bd4-bc63-0c958805afae",
   "metadata": {},
   "outputs": [],
   "source": [
    "# 전처리한 파일 저장하기 \n",
    "old_df.to_csv(os.path.join(old_f_path, \"보행노인사고.csv\"), encoding='cp949', index=False)\n",
    "jaywalk_df.to_csv(os.path.join(jaywalk_f_path, \"무단횡단사고.csv\"), encoding='cp949', index=False)\n",
    "ice_df.to_csv(os.path.join(ice_f_path, \"결빙사고.csv\"), encoding='cp949', index=False)\n",
    "truck_df.to_csv(os.path.join(truck_f_path, \"화물차사고.csv\"), encoding='cp949', index=False)\n",
    "walker_df.to_csv(os.path.join(walker_f_path, \"보행자사고.csv\"), encoding='cp949', index=False)"
   ]
  },
  {
   "cell_type": "code",
   "execution_count": 7,
   "id": "b513066e-4396-4738-a95b-dad90cdfed50",
   "metadata": {},
   "outputs": [],
   "source": [
    "# 불러오기 \n",
    "old_df = pd.read_csv(os.path.join(old_f_path, \"보행노인사고.csv\"), encoding='cp949')\n",
    "jaywalk_df = pd.read_csv(os.path.join(jaywalk_f_path, \"무단횡단사고.csv\"), encoding='cp949')\n",
    "ice_df = pd.read_csv(os.path.join(ice_f_path, \"결빙사고.csv\"), encoding='cp949')\n",
    "truck_df = pd.read_csv(os.path.join(truck_f_path, \"화물차사고.csv\"), encoding='cp949')\n",
    "walker_df = pd.read_csv(os.path.join(walker_f_path, \"보행자사고.csv\"), encoding='cp949')"
   ]
  },
  {
   "cell_type": "code",
   "execution_count": 8,
   "id": "5992b52d-e3fd-4484-a662-8b694f747394",
   "metadata": {},
   "outputs": [
    {
     "name": "stdout",
     "output_type": "stream",
     "text": [
      "101 ['id', 'count', 'occrrnc_cnt_sum', 'occrrnc_cnt_mean', 'caslt_cnt_sum', 'caslt_cnt_mean', 'dth_dnv_cnt_sum', 'dth_dnv_cnt_mean', 'se_dnv_cnt_sum', 'se_dnv_cnt_mean', 'sl_dnv_cnt_sum', 'sl_dnv_cnt_mean', 'wnd_dnv_cnt_sum', 'wnd_dnv_cnt_mean', 'geometry', '위도', '경도']\n",
      "509 ['id', 'count', 'occrrnc_cnt_sum', 'occrrnc_cnt_mean', 'caslt_cnt_sum', 'caslt_cnt_mean', 'dth_dnv_cnt_sum', 'dth_dnv_cnt_mean', 'se_dnv_cnt_sum', 'se_dnv_cnt_mean', 'sl_dnv_cnt_sum', 'sl_dnv_cnt_mean', 'wnd_dnv_cnt_sum', 'wnd_dnv_cnt_mean', 'geometry', '위도', '경도']\n",
      "44 ['id', 'count', 'occrrnc_cnt_sum', 'occrrnc_cnt_mean', 'caslt_cnt_sum', 'caslt_cnt_mean', 'dth_dnv_cnt_sum', 'dth_dnv_cnt_mean', 'se_dnv_cnt_sum', 'se_dnv_cnt_mean', 'sl_dnv_cnt_sum', 'sl_dnv_cnt_mean', 'wnd_dnv_cnt_sum', 'wnd_dnv_cnt_mean', 'geometry', '위도', '경도']\n",
      "315 ['id', 'count', 'occrrnc_cnt_sum', 'occrrnc_cnt_mean', 'caslt_cnt_sum', 'caslt_cnt_mean', 'dth_dnv_cnt_sum', 'dth_dnv_cnt_mean', 'se_dnv_cnt_sum', 'se_dnv_cnt_mean', 'sl_dnv_cnt_sum', 'sl_dnv_cnt_mean', 'wnd_dnv_cnt_sum', 'wnd_dnv_cnt_mean', 'geometry', '위도', '경도']\n",
      "452 ['id', 'count', 'occrrnc_cnt_sum', 'occrrnc_cnt_mean', 'caslt_cnt_sum', 'caslt_cnt_mean', 'dth_dnv_cnt_sum', 'dth_dnv_cnt_mean', 'se_dnv_cnt_sum', 'se_dnv_cnt_mean', 'sl_dnv_cnt_sum', 'sl_dnv_cnt_mean', 'wnd_dnv_cnt_sum', 'wnd_dnv_cnt_mean', 'geometry', '위도', '경도']\n"
     ]
    }
   ],
   "source": [
    "gdf_list = [old_df, jaywalk_df, ice_df, truck_df, walker_df]\n",
    "# 열이름이 동일하다 (다발지역내 사고 / 사상자 / 사망자 / 중상자 / 경상자 / 부상자 / 경상자 / 부상신고자수 합계 및 평균을 의미), TAAS API의 설명 참조\n",
    "# occrrnc_cnt : 사고건수 / caslt_cnt : 사상자수 / dth_dnv_cnt : 사망자수 / se_dnv_cnt : 중상자수 / sl_dnv_cnt : 경상자수 / wnd_dnv_cnt : 부상신고자수\n",
    "#  \n",
    "\n",
    "for gdf in gdf_list:\n",
    "    print(len(gdf), gdf.columns.to_list())"
   ]
  },
  {
   "cell_type": "code",
   "execution_count": 9,
   "id": "db08996f-8614-4c58-8030-119c9859f466",
   "metadata": {},
   "outputs": [],
   "source": [
    "# TRAIN, TEST 데이터 전처리 함수 \n",
    "def convert_df(df):\n",
    "# 1. 사고일시, 요일 열 전처리 하는 함수 \n",
    "\n",
    "    # 사고일시를 datetime 형태로 변환\n",
    "    df['사고일시'] = pd.to_datetime(df['사고일시'])\n",
    "    \n",
    "    # 사고일시로부터 연/월/일/시 열 생성\n",
    "    df['년'] = df['사고일시'].dt.year\n",
    "    df['월'] = df['사고일시'].dt.month\n",
    "    df['일'] = df['사고일시'].dt.day\n",
    "    df['시'] = df['사고일시'].dt.hour\n",
    "\n",
    "    # '사고일시' 로부터 요일 category형으로 label encoding \n",
    "    df['요일'] = df['사고일시'].dt.day_of_week.astype('category')\n",
    "    # 요일에서 '월'만 남기기\n",
    "    # df['요일'] = df['요일'].str.replace('요일','')   \n",
    "\n",
    "# 2. 시군구 -> 시/군/구 구분\n",
    "    df['시'] = df['시군구'].str.split(' ').str.get(0)\n",
    "    df['군'] = df['시군구'].str.split(' ').str.get(1)\n",
    "    df['구'] = df['시군구'].str.split(' ').str.get(2)\n",
    "\n",
    "# 3. 도로형태 -> 도로형태_대 / 도로형태_중 으로 구분\n",
    "    df['도로형태_대'] = df['도로형태'].str.split(' - ').str.get(0)\n",
    "    df['도로형태_중'] = df['도로형태'].str.split(' - ').str.get(1)\n",
    "    \n",
    "    return df"
   ]
  },
  {
   "cell_type": "code",
   "execution_count": 10,
   "id": "8746f28b-a9ca-40c9-88ac-a631cdf3ab72",
   "metadata": {},
   "outputs": [
    {
     "name": "stdout",
     "output_type": "stream",
     "text": [
      "['대신동', '감삼동', '두산동', '복현동', '신암동', '지산동', '상인동', '태전동', '지묘동', '평리동', '신기동', '상리동', '월성동', '황금동', '구암동', '신천동', '만촌동', '남산동', '비산동', '침산동', '두류동', '신매동', '대곡동', '유가읍', '논공읍', '율하동', '시지동', '봉무동', '다사읍', '동산동', '이현동', '이천동', '수성동4가', '노원동3가', '서변동', '관음동', '학정동', '파동', '상동', '이곡동', '효목동', '읍내동', '남성로', '죽전동', '대명동', '동천동', '지저동', '사수동', '덕산동', '본리동', '용계동', '범어동', '신당동', '성당동', '용산동', '태평로3가', '도학동', '욱수동', '불로동', '칠성동1가', '장기동', '매호동', '대천동', '삼덕동1가', '수성동2가', '팔달동', '삼덕동', '진천동', '수성동3가', '가창면', '방촌동', '산격동', '월암동', '현풍읍', '구지면', '매천동', '송현동', '고성동3가', '봉덕동', '칠성동2가', '공평동', '봉산동', '괴전동', '국우동', '대현동', '노원동1가', '대봉동', '본동', '신서동', '검단동', '화원읍', '동호동', '삼덕동2가', '입석동', '중동', '삼덕동3가', '파호동', '동내동', '하빈면', '율암동', '동인동1가', '내당동', '유천동', '호산동', '교동', '옥포읍', '원대동3가', '검사동', '동인동4가', '수성동1가', '고성동2가', '각산동', '중리동', '고성동1가', '갈산동', '대림동', '호림동', '연호동', '동변동', '범물동', '계산동2가', '동문동', '고모동', '금호동', '장동', '도원동', '수창동', '동인동2가', '가천동', '노변동', '달성동', '동인동3가', '서문로2가', '동성로2가', '중대동', '사월동', '장관동', '신평동', '숙천동', '성동', '동일동', '시장북로', '서호동', '용수동', '대흥동', '동성로3가', '연경동', '원대동1가', '남일동', '부동', '송정동', '백안동', '도동', '인교동', '미대동', '노원동2가', '북성로1가', '조야동', '태평로2가', '포정동', '노곡동', '진인동', '서문로1가', '덕곡동', '문화동', '상매동', '사복동', '종로1가', '계산동1가', '상서동', '서성로1가', '원대동2가', '태평로1가', '미곡동', '사일동', '내동', '전동', '둔산동', '매여동', '완전동', '북성로2가', '하서동', '화전동', '능성동', '서성로2가', '금강동', '향촌동', '수동', '신무동', '대안동', '종로2가', '서야동', '신용동', '동성로1가', '평광동', '도남동']\n"
     ]
    }
   ],
   "source": [
    "train_df = convert_df(train_df)\n",
    "test_df = convert_df(test_df)\n",
    "\n",
    "# train_df 기준으로 인코딩 할것? unique 값의 list를 만들자 \n",
    "gu_list = train_df['구'].unique().tolist()\n",
    "print(gu_list)"
   ]
  },
  {
   "cell_type": "code",
   "execution_count": 11,
   "id": "04a69998-df83-4e17-b07d-fd3521757fc3",
   "metadata": {},
   "outputs": [],
   "source": [
    "cctv_df = pd.read_csv('open/external_open/대구 CCTV 정보.csv',encoding = 'cp949')\n",
    "parking_df = pd.read_csv('open/external_open/대구 주차장 정보.csv',encoding = 'cp949')\n",
    "light_df = pd.read_csv('open/external_open/대구 보안등 정보.csv',encoding = 'cp949')\n",
    "child_area_df = pd.read_csv('open/external_open/대구 어린이 보호 구역 정보.csv',encoding = 'cp949')\n",
    "df_dict = {'보안등':light_df, '어린이보호구역':child_area_df, '주차장':parking_df, 'cctv':cctv_df}"
   ]
  },
  {
   "cell_type": "code",
   "execution_count": 12,
   "id": "1df8039a-0270-4c1f-ae89-47bff6db2249",
   "metadata": {},
   "outputs": [],
   "source": [
    "# df와 unique list(A:구)를 입력해서 '구' 값을 추출해서 열을 새로 만드는 전처리 함수\n",
    "def preprocess_df(df, A):\n",
    "    # 1) Create a new column '구' to store the values\n",
    "    df['구'] = np.nan\n",
    "\n",
    "    # 2) Iterate through each row in the data frame\n",
    "    for index, row in df.iterrows():\n",
    "        # Check if the value in '소재지지번주소' is not NaN\n",
    "        if not pd.isna(row['소재지지번주소']):\n",
    "            # Check if any value in A is present in the '소재지지번주소' column\n",
    "            for value in A:\n",
    "                if value in row['소재지지번주소']:\n",
    "                    # If found, store the value in column '구'\n",
    "                    df.at[index, '구'] = value\n",
    "                    break  # Break the loop if a match is found     \n",
    "    \n",
    "    return df"
   ]
  },
  {
   "cell_type": "code",
   "execution_count": 13,
   "id": "a065c252-c7ae-4d29-a919-cde431cde95a",
   "metadata": {},
   "outputs": [
    {
     "name": "stdout",
     "output_type": "stream",
     "text": [
      "보안등 |열 개수: 8 |열 이름: ['보안등위치명', '설치개수', '소재지도로명주소', '소재지지번주소', '위도', '경도', '설치연도', '설치형태']\n",
      "어린이보호구역 |열 개수: 12 |열 이름: ['시설종류', '대상시설명', '소재지도로명주소', '소재지지번주소', '위도', '경도', '관리기관명', '관할경찰서명', 'CCTV설치여부', 'CCTV설치대수', '보호구역도로폭', '데이터기준일자']\n",
      "주차장 |열 개수: 29 |열 이름: ['주차장관리번호', '주차장명', '주차장구분', '주차장유형', '소재지도로명주소', '소재지지번주소', '주차구획수', '급지구분', '부제시행구분', '운영요일', '평일운영시작시각', '평일운영종료시각', '토요일운영시작시각', '토요일운영종료시각', '공휴일운영시작시각', '공휴일운영종료시각', '요금정보', '주차기본시간', '주차기본요금', '추가단위시간', '추가단위요금', '1일주차권요금적용시간', '1일주차권요금', '월정기권요금', '결제방법', '특기사항', '위도', '경도', '데이터기준일자']\n",
      "cctv |열 개수: 18 |열 이름: ['무인교통단속카메라관리번호', '시도명', '시군구명', '도로종류', '도로노선번호', '도로노선명', '도로노선방향', '소재지도로명주소', '소재지지번주소', '위도', '경도', '설치장소', '단속구분', '제한속도', '단속구간위치구분', '과속단속구간길이', '보호구역구분', '설치연도']\n"
     ]
    }
   ],
   "source": [
    "for key, df in df_dict.items():\n",
    "    print(key, '|열 개수:',  len(df.columns), '|열 이름:', df.columns.tolist())"
   ]
  },
  {
   "cell_type": "code",
   "execution_count": 14,
   "id": "4453bfa6-1b58-44bb-829b-282d64857632",
   "metadata": {},
   "outputs": [],
   "source": [
    "for key, df in df_dict.items():\n",
    "     df = preprocess_df(df, gu_list)"
   ]
  },
  {
   "cell_type": "code",
   "execution_count": 15,
   "id": "8f3a9c7f-6547-4de1-8d50-4dce157cd949",
   "metadata": {},
   "outputs": [
    {
     "name": "stdout",
     "output_type": "stream",
     "text": [
      "보안등 |열 개수: 9 |열 이름: ['보안등위치명', '설치개수', '소재지도로명주소', '소재지지번주소', '위도', '경도', '설치연도', '설치형태', '구']\n",
      "어린이보호구역 |열 개수: 13 |열 이름: ['시설종류', '대상시설명', '소재지도로명주소', '소재지지번주소', '위도', '경도', '관리기관명', '관할경찰서명', 'CCTV설치여부', 'CCTV설치대수', '보호구역도로폭', '데이터기준일자', '구']\n",
      "주차장 |열 개수: 30 |열 이름: ['주차장관리번호', '주차장명', '주차장구분', '주차장유형', '소재지도로명주소', '소재지지번주소', '주차구획수', '급지구분', '부제시행구분', '운영요일', '평일운영시작시각', '평일운영종료시각', '토요일운영시작시각', '토요일운영종료시각', '공휴일운영시작시각', '공휴일운영종료시각', '요금정보', '주차기본시간', '주차기본요금', '추가단위시간', '추가단위요금', '1일주차권요금적용시간', '1일주차권요금', '월정기권요금', '결제방법', '특기사항', '위도', '경도', '데이터기준일자', '구']\n",
      "cctv |열 개수: 19 |열 이름: ['무인교통단속카메라관리번호', '시도명', '시군구명', '도로종류', '도로노선번호', '도로노선명', '도로노선방향', '소재지도로명주소', '소재지지번주소', '위도', '경도', '설치장소', '단속구분', '제한속도', '단속구간위치구분', '과속단속구간길이', '보호구역구분', '설치연도', '구']\n"
     ]
    }
   ],
   "source": [
    "for key, df in df_dict.items():\n",
    "    print(key, '|열 개수:',  len(df.columns), '|열 이름:', df.columns.tolist())"
   ]
  },
  {
   "cell_type": "code",
   "execution_count": 16,
   "id": "f0df14de-91c9-48bf-8e9c-156a9c07be11",
   "metadata": {},
   "outputs": [],
   "source": [
    "# 저장하기 \n",
    "light_df.to_csv(\"open/external_open/대구 보안등 정보_구추가.csv\", encoding= 'cp949', index=False)\n",
    "child_area_df.to_csv(\"open/external_open/대구 어린이 보호 구역 정보_구추가.csv\", encoding= 'cp949', index=False)\n",
    "parking_df.to_csv(\"open/external_open/대구 주차장 정보_구추가.csv\", encoding= 'cp949', index=False)\n",
    "cctv_df.to_csv(\"open/external_open/대구 CCTV 정보_구추가.csv\", encoding= 'cp949', index=False)"
   ]
  },
  {
   "cell_type": "code",
   "execution_count": 17,
   "id": "37f50605-e3b5-41eb-b093-d572495891db",
   "metadata": {},
   "outputs": [],
   "source": [
    "# 불러오기 \n",
    "light_df = pd.read_csv(\"open/external_open/대구 보안등 정보_구추가.csv\", encoding= 'cp949')\n",
    "child_area_df = pd.read_csv(\"open/external_open/대구 어린이 보호 구역 정보_구추가.csv\", encoding= 'cp949')\n",
    "parking_df = pd.read_csv(\"open/external_open/대구 주차장 정보_구추가.csv\", encoding= 'cp949')\n",
    "cctv_df = pd.read_csv(\"open/external_open/대구 CCTV 정보_구추가.csv\", encoding= 'cp949')"
   ]
  },
  {
   "cell_type": "code",
   "execution_count": 18,
   "id": "cd712d90-bbc1-4332-8fc5-e4f8d651bc39",
   "metadata": {},
   "outputs": [
    {
     "data": {
      "text/plain": [
       "<matplotlib.legend.Legend at 0x2954907f0>"
      ]
     },
     "execution_count": 18,
     "metadata": {},
     "output_type": "execute_result"
    }
   ],
   "source": [
    "import matplotlib.pyplot as plt\n",
    "# 위도, 경도에 따른 구의 분포를 확인해보자 \n",
    "sns.scatterplot(x='위도', y='경도', hue='구', data=light_df)\n",
    "plt.legend(\"\")"
   ]
  },
  {
   "cell_type": "code",
   "execution_count": 19,
   "id": "ba967132-3471-41d5-b592-1bc44c04be61",
   "metadata": {},
   "outputs": [],
   "source": [
    "# gu_model을 만들 df를 합쳐주자 \n",
    "gu_df = pd.concat(df_dict.values(), axis=0)[['위도', '경도', '구']]"
   ]
  },
  {
   "cell_type": "code",
   "execution_count": 20,
   "id": "d486fbe9-169e-4b48-8d3c-08ff1930cf05",
   "metadata": {},
   "outputs": [
    {
     "data": {
      "text/plain": [
       "<matplotlib.legend.Legend at 0x29792d3c0>"
      ]
     },
     "execution_count": 20,
     "metadata": {},
     "output_type": "execute_result"
    }
   ],
   "source": [
    "# 위도, 경도에 따른 구의 분포를 확인해보자 \n",
    "sns.scatterplot(x='위도', y='경도', hue='구', data=gu_df)\n",
    "plt.legend(\"\")"
   ]
  },
  {
   "cell_type": "code",
   "execution_count": 21,
   "id": "ba198c05-12ec-4e3f-ae22-3ac652cbf286",
   "metadata": {
    "tags": []
   },
   "outputs": [
    {
     "name": "stdout",
     "output_type": "stream",
     "text": [
      "44070 44070\n",
      "Random Forest Model:\n",
      "Accuracy Scores: [0.97696846 0.97821647 0.97798956 0.97708192 0.9748128 ]\n",
      "Mean Accuracy: 97.70%\n",
      "\n",
      "k-Nearest Neighbors (KNN) Model:\n",
      "Accuracy Scores: [0.97628772 0.97492625 0.97515317 0.97447243 0.97390515]\n",
      "Mean Accuracy: 97.49%\n",
      "\n"
     ]
    }
   ],
   "source": [
    "# 일단 단순한 RF모델/KNN 사용해보자 :\n",
    "\n",
    "from sklearn.model_selection import cross_val_score, StratifiedKFold\n",
    "from sklearn.ensemble import RandomForestClassifier\n",
    "from sklearn.neighbors import KNeighborsClassifier\n",
    "\n",
    "\n",
    "gu_df = gu_df.dropna()\n",
    "X = gu_df[['위도', '경도']]\n",
    "y = gu_df['구']\n",
    "print(len(X), len(y))\n",
    "\n",
    "kf = StratifiedKFold(n_splits=5, shuffle=True, random_state=42)\n",
    "\n",
    "rf_classifier = RandomForestClassifier(random_state=42)\n",
    "knn_classifier = KNeighborsClassifier(n_neighbors=3)  # You can adjust the number of neighbors\n",
    "\n",
    "classifiers = [rf_classifier, knn_classifier]\n",
    "classifier_names = ['Random Forest', 'k-Nearest Neighbors (KNN)']\n",
    "\n",
    "for clf, clf_name in zip(classifiers, classifier_names):\n",
    "    # Perform k-fold cross-validation and calculate accuracy\n",
    "    accuracy_scores = cross_val_score(clf, X, y, cv=kf, scoring='accuracy')\n",
    "    \n",
    "    # Print results\n",
    "    print(f'{clf_name} Model:')\n",
    "    print(f'Accuracy Scores: {accuracy_scores}')\n",
    "    print(f'Mean Accuracy: {accuracy_scores.mean():.2%}\\n')"
   ]
  },
  {
   "cell_type": "code",
   "execution_count": 22,
   "id": "e0d4bbaa-44a1-41ed-a74d-360954448850",
   "metadata": {},
   "outputs": [
    {
     "data": {
      "text/html": [
       "<style>#sk-container-id-1 {color: black;}#sk-container-id-1 pre{padding: 0;}#sk-container-id-1 div.sk-toggleable {background-color: white;}#sk-container-id-1 label.sk-toggleable__label {cursor: pointer;display: block;width: 100%;margin-bottom: 0;padding: 0.3em;box-sizing: border-box;text-align: center;}#sk-container-id-1 label.sk-toggleable__label-arrow:before {content: \"▸\";float: left;margin-right: 0.25em;color: #696969;}#sk-container-id-1 label.sk-toggleable__label-arrow:hover:before {color: black;}#sk-container-id-1 div.sk-estimator:hover label.sk-toggleable__label-arrow:before {color: black;}#sk-container-id-1 div.sk-toggleable__content {max-height: 0;max-width: 0;overflow: hidden;text-align: left;background-color: #f0f8ff;}#sk-container-id-1 div.sk-toggleable__content pre {margin: 0.2em;color: black;border-radius: 0.25em;background-color: #f0f8ff;}#sk-container-id-1 input.sk-toggleable__control:checked~div.sk-toggleable__content {max-height: 200px;max-width: 100%;overflow: auto;}#sk-container-id-1 input.sk-toggleable__control:checked~label.sk-toggleable__label-arrow:before {content: \"▾\";}#sk-container-id-1 div.sk-estimator input.sk-toggleable__control:checked~label.sk-toggleable__label {background-color: #d4ebff;}#sk-container-id-1 div.sk-label input.sk-toggleable__control:checked~label.sk-toggleable__label {background-color: #d4ebff;}#sk-container-id-1 input.sk-hidden--visually {border: 0;clip: rect(1px 1px 1px 1px);clip: rect(1px, 1px, 1px, 1px);height: 1px;margin: -1px;overflow: hidden;padding: 0;position: absolute;width: 1px;}#sk-container-id-1 div.sk-estimator {font-family: monospace;background-color: #f0f8ff;border: 1px dotted black;border-radius: 0.25em;box-sizing: border-box;margin-bottom: 0.5em;}#sk-container-id-1 div.sk-estimator:hover {background-color: #d4ebff;}#sk-container-id-1 div.sk-parallel-item::after {content: \"\";width: 100%;border-bottom: 1px solid gray;flex-grow: 1;}#sk-container-id-1 div.sk-label:hover label.sk-toggleable__label {background-color: #d4ebff;}#sk-container-id-1 div.sk-serial::before {content: \"\";position: absolute;border-left: 1px solid gray;box-sizing: border-box;top: 0;bottom: 0;left: 50%;z-index: 0;}#sk-container-id-1 div.sk-serial {display: flex;flex-direction: column;align-items: center;background-color: white;padding-right: 0.2em;padding-left: 0.2em;position: relative;}#sk-container-id-1 div.sk-item {position: relative;z-index: 1;}#sk-container-id-1 div.sk-parallel {display: flex;align-items: stretch;justify-content: center;background-color: white;position: relative;}#sk-container-id-1 div.sk-item::before, #sk-container-id-1 div.sk-parallel-item::before {content: \"\";position: absolute;border-left: 1px solid gray;box-sizing: border-box;top: 0;bottom: 0;left: 50%;z-index: -1;}#sk-container-id-1 div.sk-parallel-item {display: flex;flex-direction: column;z-index: 1;position: relative;background-color: white;}#sk-container-id-1 div.sk-parallel-item:first-child::after {align-self: flex-end;width: 50%;}#sk-container-id-1 div.sk-parallel-item:last-child::after {align-self: flex-start;width: 50%;}#sk-container-id-1 div.sk-parallel-item:only-child::after {width: 0;}#sk-container-id-1 div.sk-dashed-wrapped {border: 1px dashed gray;margin: 0 0.4em 0.5em 0.4em;box-sizing: border-box;padding-bottom: 0.4em;background-color: white;}#sk-container-id-1 div.sk-label label {font-family: monospace;font-weight: bold;display: inline-block;line-height: 1.2em;}#sk-container-id-1 div.sk-label-container {text-align: center;}#sk-container-id-1 div.sk-container {/* jupyter's `normalize.less` sets `[hidden] { display: none; }` but bootstrap.min.css set `[hidden] { display: none !important; }` so we also need the `!important` here to be able to override the default hidden behavior on the sphinx rendered scikit-learn.org. See: https://github.com/scikit-learn/scikit-learn/issues/21755 */display: inline-block !important;position: relative;}#sk-container-id-1 div.sk-text-repr-fallback {display: none;}</style><div id=\"sk-container-id-1\" class=\"sk-top-container\"><div class=\"sk-text-repr-fallback\"><pre>RandomForestClassifier(random_state=42)</pre><b>In a Jupyter environment, please rerun this cell to show the HTML representation or trust the notebook. <br />On GitHub, the HTML representation is unable to render, please try loading this page with nbviewer.org.</b></div><div class=\"sk-container\" hidden><div class=\"sk-item\"><div class=\"sk-estimator sk-toggleable\"><input class=\"sk-toggleable__control sk-hidden--visually\" id=\"sk-estimator-id-1\" type=\"checkbox\" checked><label for=\"sk-estimator-id-1\" class=\"sk-toggleable__label sk-toggleable__label-arrow\">RandomForestClassifier</label><div class=\"sk-toggleable__content\"><pre>RandomForestClassifier(random_state=42)</pre></div></div></div></div></div>"
      ],
      "text/plain": [
       "RandomForestClassifier(random_state=42)"
      ]
     },
     "execution_count": 22,
     "metadata": {},
     "output_type": "execute_result"
    }
   ],
   "source": [
    "rf_classifier = RandomForestClassifier(random_state=42)\n",
    "rf_classifier.fit(X, y)"
   ]
  },
  {
   "cell_type": "code",
   "execution_count": 23,
   "id": "10372d72-7f76-48b4-af48-0bbf761e9ffe",
   "metadata": {},
   "outputs": [],
   "source": [
    "# 저장 및 불러오기 \n",
    "from joblib import dump, load\n",
    "model_filename = 'gu_model_RF.joblib'\n",
    "dump(rf_classifier, model_filename)\n",
    "\n",
    "gu_model = load(model_filename)"
   ]
  },
  {
   "cell_type": "code",
   "execution_count": 24,
   "id": "bd6839a0-1c6f-4aef-bb1b-725e030655e0",
   "metadata": {},
   "outputs": [],
   "source": [
    "# gu model로 gpd에서 '구'를 예측하자 \n",
    "for gdf in gdf_list:\n",
    "    gdf['구'] = gu_model.predict(gdf[['위도', '경도']])\n",
    "\n",
    "    # 사용안할 열을 drop\n",
    "    cols_remove = ['geometry', 'occrrnc_cnt_mean', 'caslt_cnt_mean', 'dth_dnv_cnt_mean', 'se_dnv_cnt_mean', 'sl_dnv_cnt_mean', 'wnd_dnv_cnt_mean', '위도', '경도', 'id']\n",
    "\n",
    "    if all(column in gdf.columns for column in cols_remove):\n",
    "        gdf.drop(cols_remove, axis=1, inplace=True)\n",
    "    # gdf.reset_index(drop=True, inplace=True)"
   ]
  },
  {
   "cell_type": "code",
   "execution_count": 25,
   "id": "1502b145-657e-43e1-8d29-e46748d743e7",
   "metadata": {},
   "outputs": [
    {
     "data": {
      "text/html": [
       "<div>\n",
       "<style scoped>\n",
       "    .dataframe tbody tr th:only-of-type {\n",
       "        vertical-align: middle;\n",
       "    }\n",
       "\n",
       "    .dataframe tbody tr th {\n",
       "        vertical-align: top;\n",
       "    }\n",
       "\n",
       "    .dataframe thead th {\n",
       "        text-align: right;\n",
       "    }\n",
       "</style>\n",
       "<table border=\"1\" class=\"dataframe\">\n",
       "  <thead>\n",
       "    <tr style=\"text-align: right;\">\n",
       "      <th></th>\n",
       "      <th>count</th>\n",
       "      <th>occrrnc_cnt_sum</th>\n",
       "      <th>caslt_cnt_sum</th>\n",
       "      <th>dth_dnv_cnt_sum</th>\n",
       "      <th>se_dnv_cnt_sum</th>\n",
       "      <th>sl_dnv_cnt_sum</th>\n",
       "      <th>wnd_dnv_cnt_sum</th>\n",
       "      <th>구</th>\n",
       "    </tr>\n",
       "  </thead>\n",
       "  <tbody>\n",
       "    <tr>\n",
       "      <th>0</th>\n",
       "      <td>1.0</td>\n",
       "      <td>7.0</td>\n",
       "      <td>7.0</td>\n",
       "      <td>0.0</td>\n",
       "      <td>7.0</td>\n",
       "      <td>0.0</td>\n",
       "      <td>0.0</td>\n",
       "      <td>태전동</td>\n",
       "    </tr>\n",
       "    <tr>\n",
       "      <th>1</th>\n",
       "      <td>1.0</td>\n",
       "      <td>5.0</td>\n",
       "      <td>7.0</td>\n",
       "      <td>0.0</td>\n",
       "      <td>6.0</td>\n",
       "      <td>1.0</td>\n",
       "      <td>0.0</td>\n",
       "      <td>송현동</td>\n",
       "    </tr>\n",
       "    <tr>\n",
       "      <th>2</th>\n",
       "      <td>1.0</td>\n",
       "      <td>5.0</td>\n",
       "      <td>7.0</td>\n",
       "      <td>0.0</td>\n",
       "      <td>6.0</td>\n",
       "      <td>1.0</td>\n",
       "      <td>0.0</td>\n",
       "      <td>대명동</td>\n",
       "    </tr>\n",
       "    <tr>\n",
       "      <th>3</th>\n",
       "      <td>1.0</td>\n",
       "      <td>5.0</td>\n",
       "      <td>7.0</td>\n",
       "      <td>0.0</td>\n",
       "      <td>6.0</td>\n",
       "      <td>1.0</td>\n",
       "      <td>0.0</td>\n",
       "      <td>대명동</td>\n",
       "    </tr>\n",
       "    <tr>\n",
       "      <th>4</th>\n",
       "      <td>1.0</td>\n",
       "      <td>5.0</td>\n",
       "      <td>7.0</td>\n",
       "      <td>0.0</td>\n",
       "      <td>6.0</td>\n",
       "      <td>1.0</td>\n",
       "      <td>0.0</td>\n",
       "      <td>대명동</td>\n",
       "    </tr>\n",
       "  </tbody>\n",
       "</table>\n",
       "</div>"
      ],
      "text/plain": [
       "   count  occrrnc_cnt_sum  caslt_cnt_sum  dth_dnv_cnt_sum  se_dnv_cnt_sum  \\\n",
       "0    1.0              7.0            7.0              0.0             7.0   \n",
       "1    1.0              5.0            7.0              0.0             6.0   \n",
       "2    1.0              5.0            7.0              0.0             6.0   \n",
       "3    1.0              5.0            7.0              0.0             6.0   \n",
       "4    1.0              5.0            7.0              0.0             6.0   \n",
       "\n",
       "   sl_dnv_cnt_sum  wnd_dnv_cnt_sum    구  \n",
       "0             0.0              0.0  태전동  \n",
       "1             1.0              0.0  송현동  \n",
       "2             1.0              0.0  대명동  \n",
       "3             1.0              0.0  대명동  \n",
       "4             1.0              0.0  대명동  "
      ]
     },
     "execution_count": 25,
     "metadata": {},
     "output_type": "execute_result"
    }
   ],
   "source": [
    "old_df.head()"
   ]
  },
  {
   "cell_type": "code",
   "execution_count": 26,
   "id": "67b719db-f147-4b9d-ab6a-096abd946b8b",
   "metadata": {},
   "outputs": [],
   "source": [
    "# 각 df로부터 구 기준으로 집계된 새로운 df들을 만들자 (agg_dfs에 저장)\n",
    "def create_agg_df(dataframes):\n",
    "\n",
    "    aggregated_dfs = []\n",
    "\n",
    "    for df in dataframes:\n",
    "        # Perform groupby operation and aggregate based on the specified column\n",
    "        aggregated_df = df.groupby('구').sum().reset_index()\n",
    "        aggregated_dfs.append(aggregated_df)\n",
    "\n",
    "    return aggregated_dfs\n",
    "\n",
    "# Example: Create aggregated data frames based on the 'old' column\n",
    "agg_dfs = create_agg_df(gdf_list)\n"
   ]
  },
  {
   "cell_type": "code",
   "execution_count": 27,
   "id": "635d1d67-273c-458a-8349-8bff469ba0e2",
   "metadata": {},
   "outputs": [
    {
     "data": {
      "text/html": [
       "<div>\n",
       "<style scoped>\n",
       "    .dataframe tbody tr th:only-of-type {\n",
       "        vertical-align: middle;\n",
       "    }\n",
       "\n",
       "    .dataframe tbody tr th {\n",
       "        vertical-align: top;\n",
       "    }\n",
       "\n",
       "    .dataframe thead th {\n",
       "        text-align: right;\n",
       "    }\n",
       "</style>\n",
       "<table border=\"1\" class=\"dataframe\">\n",
       "  <thead>\n",
       "    <tr style=\"text-align: right;\">\n",
       "      <th></th>\n",
       "      <th>구</th>\n",
       "      <th>count</th>\n",
       "      <th>occrrnc_cnt_sum</th>\n",
       "      <th>caslt_cnt_sum</th>\n",
       "      <th>dth_dnv_cnt_sum</th>\n",
       "      <th>se_dnv_cnt_sum</th>\n",
       "      <th>sl_dnv_cnt_sum</th>\n",
       "      <th>wnd_dnv_cnt_sum</th>\n",
       "    </tr>\n",
       "  </thead>\n",
       "  <tbody>\n",
       "    <tr>\n",
       "      <th>0</th>\n",
       "      <td>감삼동</td>\n",
       "      <td>15.0</td>\n",
       "      <td>72.0</td>\n",
       "      <td>96.0</td>\n",
       "      <td>3.0</td>\n",
       "      <td>72.0</td>\n",
       "      <td>21.0</td>\n",
       "      <td>0.0</td>\n",
       "    </tr>\n",
       "    <tr>\n",
       "      <th>1</th>\n",
       "      <td>공평동</td>\n",
       "      <td>1.0</td>\n",
       "      <td>4.0</td>\n",
       "      <td>6.0</td>\n",
       "      <td>0.0</td>\n",
       "      <td>4.0</td>\n",
       "      <td>2.0</td>\n",
       "      <td>0.0</td>\n",
       "    </tr>\n",
       "    <tr>\n",
       "      <th>2</th>\n",
       "      <td>교동</td>\n",
       "      <td>4.0</td>\n",
       "      <td>16.0</td>\n",
       "      <td>24.0</td>\n",
       "      <td>0.0</td>\n",
       "      <td>16.0</td>\n",
       "      <td>8.0</td>\n",
       "      <td>0.0</td>\n",
       "    </tr>\n",
       "    <tr>\n",
       "      <th>3</th>\n",
       "      <td>구암동</td>\n",
       "      <td>1.0</td>\n",
       "      <td>4.0</td>\n",
       "      <td>4.0</td>\n",
       "      <td>0.0</td>\n",
       "      <td>4.0</td>\n",
       "      <td>0.0</td>\n",
       "      <td>0.0</td>\n",
       "    </tr>\n",
       "    <tr>\n",
       "      <th>4</th>\n",
       "      <td>남산동</td>\n",
       "      <td>9.0</td>\n",
       "      <td>36.0</td>\n",
       "      <td>69.0</td>\n",
       "      <td>0.0</td>\n",
       "      <td>36.0</td>\n",
       "      <td>28.0</td>\n",
       "      <td>5.0</td>\n",
       "    </tr>\n",
       "  </tbody>\n",
       "</table>\n",
       "</div>"
      ],
      "text/plain": [
       "     구  count  occrrnc_cnt_sum  caslt_cnt_sum  dth_dnv_cnt_sum  \\\n",
       "0  감삼동   15.0             72.0           96.0              3.0   \n",
       "1  공평동    1.0              4.0            6.0              0.0   \n",
       "2   교동    4.0             16.0           24.0              0.0   \n",
       "3  구암동    1.0              4.0            4.0              0.0   \n",
       "4  남산동    9.0             36.0           69.0              0.0   \n",
       "\n",
       "   se_dnv_cnt_sum  sl_dnv_cnt_sum  wnd_dnv_cnt_sum  \n",
       "0            72.0            21.0              0.0  \n",
       "1             4.0             2.0              0.0  \n",
       "2            16.0             8.0              0.0  \n",
       "3             4.0             0.0              0.0  \n",
       "4            36.0            28.0              5.0  "
      ]
     },
     "execution_count": 27,
     "metadata": {},
     "output_type": "execute_result"
    }
   ],
   "source": [
    "agg_dfs[-1].head()"
   ]
  },
  {
   "cell_type": "code",
   "execution_count": 28,
   "id": "b0a0fd04-8051-470e-808a-38cc70c71be6",
   "metadata": {},
   "outputs": [],
   "source": [
    "# train 데이터와 합쳐주기 위해서 각 집계된 리스트의 열이름을 구별해서 합쳐주자 \n",
    "string_list = ['old', 'jay', 'ice', 'truck', 'walker']\n",
    "\n",
    "# Iterate over each data frame in the list and modify column names\n",
    "for i, (agg_df, prefix) in enumerate(zip(agg_dfs, string_list)):\n",
    "    if prefix != '구':\n",
    "        # Modify column names based on the rules\n",
    "        new_column_names = [prefix + '_' + col if col != '구' else col for col in agg_df.columns]\n",
    "        agg_df.columns = new_column_names"
   ]
  },
  {
   "cell_type": "code",
   "execution_count": 29,
   "id": "0248c7b8-5f34-4bc6-940b-77da12b87549",
   "metadata": {},
   "outputs": [
    {
     "name": "stdout",
     "output_type": "stream",
     "text": [
      "['구', 'old_count', 'old_occrrnc_cnt_sum', 'old_caslt_cnt_sum', 'old_dth_dnv_cnt_sum', 'old_se_dnv_cnt_sum', 'old_sl_dnv_cnt_sum', 'old_wnd_dnv_cnt_sum']\n",
      "['구', 'jay_count', 'jay_occrrnc_cnt_sum', 'jay_caslt_cnt_sum', 'jay_dth_dnv_cnt_sum', 'jay_se_dnv_cnt_sum', 'jay_sl_dnv_cnt_sum', 'jay_wnd_dnv_cnt_sum']\n",
      "['구', 'ice_count', 'ice_occrrnc_cnt_sum', 'ice_caslt_cnt_sum', 'ice_dth_dnv_cnt_sum', 'ice_se_dnv_cnt_sum', 'ice_sl_dnv_cnt_sum', 'ice_wnd_dnv_cnt_sum']\n",
      "['구', 'truck_count', 'truck_occrrnc_cnt_sum', 'truck_caslt_cnt_sum', 'truck_dth_dnv_cnt_sum', 'truck_se_dnv_cnt_sum', 'truck_sl_dnv_cnt_sum', 'truck_wnd_dnv_cnt_sum']\n",
      "['구', 'walker_count', 'walker_occrrnc_cnt_sum', 'walker_caslt_cnt_sum', 'walker_dth_dnv_cnt_sum', 'walker_se_dnv_cnt_sum', 'walker_sl_dnv_cnt_sum', 'walker_wnd_dnv_cnt_sum']\n"
     ]
    }
   ],
   "source": [
    "for df in agg_dfs:\n",
    "    print(df.columns.to_list() )\n",
    "    # print(len(df), len(df['구'].unique()))"
   ]
  },
  {
   "cell_type": "code",
   "execution_count": 30,
   "id": "7a5ed78f-849f-4df1-aa11-6c2fc3c11a7a",
   "metadata": {},
   "outputs": [
    {
     "name": "stdout",
     "output_type": "stream",
     "text": [
      "(92, 36) ['구', 'old_count', 'old_occrrnc_cnt_sum', 'old_caslt_cnt_sum', 'old_dth_dnv_cnt_sum', 'old_se_dnv_cnt_sum', 'old_sl_dnv_cnt_sum', 'old_wnd_dnv_cnt_sum', 'jay_count', 'jay_occrrnc_cnt_sum', 'jay_caslt_cnt_sum', 'jay_dth_dnv_cnt_sum', 'jay_se_dnv_cnt_sum', 'jay_sl_dnv_cnt_sum', 'jay_wnd_dnv_cnt_sum', 'ice_count', 'ice_occrrnc_cnt_sum', 'ice_caslt_cnt_sum', 'ice_dth_dnv_cnt_sum', 'ice_se_dnv_cnt_sum', 'ice_sl_dnv_cnt_sum', 'ice_wnd_dnv_cnt_sum', 'truck_count', 'truck_occrrnc_cnt_sum', 'truck_caslt_cnt_sum', 'truck_dth_dnv_cnt_sum', 'truck_se_dnv_cnt_sum', 'truck_sl_dnv_cnt_sum', 'truck_wnd_dnv_cnt_sum', 'walker_count', 'walker_occrrnc_cnt_sum', 'walker_caslt_cnt_sum', 'walker_dth_dnv_cnt_sum', 'walker_se_dnv_cnt_sum', 'walker_sl_dnv_cnt_sum', 'walker_wnd_dnv_cnt_sum']\n"
     ]
    }
   ],
   "source": [
    "# '구'를 기준으로 merge 하자 \n",
    "\n",
    "from functools import reduce\n",
    "\n",
    "agg_merged_df = reduce(lambda left, right: pd.merge(left, right, on='구', how='outer'), agg_dfs)\n",
    "agg_merged_df = agg_merged_df.fillna(0)\n",
    "print(agg_merged_df.shape, agg_merged_df.columns.to_list())"
   ]
  },
  {
   "cell_type": "code",
   "execution_count": 31,
   "id": "e2732373-e232-4dab-ab27-8e575446d45b",
   "metadata": {},
   "outputs": [
    {
     "name": "stdout",
     "output_type": "stream",
     "text": [
      "(39609, 66) (10963, 51)\n"
     ]
    }
   ],
   "source": [
    "train_df = pd.merge(train_df, agg_merged_df, on='구', how='left').fillna(0)\n",
    "test_df = pd.merge(test_df, agg_merged_df, on='구', how='left').fillna(0)\n",
    "print(train_df.shape, test_df.shape)"
   ]
  },
  {
   "cell_type": "code",
   "execution_count": 32,
   "id": "12c7addb-d599-46ec-ab45-e6a4de5c6bfe",
   "metadata": {},
   "outputs": [
    {
     "data": {
      "text/plain": [
       "Index(['ID', '사고일시', '요일', '기상상태', '시군구', '도로형태', '노면상태', '사고유형', '년', '월',\n",
       "       '일', '시', '군', '구', '도로형태_대', '도로형태_중', 'old_count',\n",
       "       'old_occrrnc_cnt_sum', 'old_caslt_cnt_sum', 'old_dth_dnv_cnt_sum',\n",
       "       'old_se_dnv_cnt_sum', 'old_sl_dnv_cnt_sum', 'old_wnd_dnv_cnt_sum',\n",
       "       'jay_count', 'jay_occrrnc_cnt_sum', 'jay_caslt_cnt_sum',\n",
       "       'jay_dth_dnv_cnt_sum', 'jay_se_dnv_cnt_sum', 'jay_sl_dnv_cnt_sum',\n",
       "       'jay_wnd_dnv_cnt_sum', 'ice_count', 'ice_occrrnc_cnt_sum',\n",
       "       'ice_caslt_cnt_sum', 'ice_dth_dnv_cnt_sum', 'ice_se_dnv_cnt_sum',\n",
       "       'ice_sl_dnv_cnt_sum', 'ice_wnd_dnv_cnt_sum', 'truck_count',\n",
       "       'truck_occrrnc_cnt_sum', 'truck_caslt_cnt_sum', 'truck_dth_dnv_cnt_sum',\n",
       "       'truck_se_dnv_cnt_sum', 'truck_sl_dnv_cnt_sum', 'truck_wnd_dnv_cnt_sum',\n",
       "       'walker_count', 'walker_occrrnc_cnt_sum', 'walker_caslt_cnt_sum',\n",
       "       'walker_dth_dnv_cnt_sum', 'walker_se_dnv_cnt_sum',\n",
       "       'walker_sl_dnv_cnt_sum', 'walker_wnd_dnv_cnt_sum'],\n",
       "      dtype='object')"
      ]
     },
     "execution_count": 32,
     "metadata": {},
     "output_type": "execute_result"
    }
   ],
   "source": [
    "test_df.columns"
   ]
  },
  {
   "cell_type": "code",
   "execution_count": 33,
   "id": "a8a25362-40af-4bed-864d-12c930211414",
   "metadata": {},
   "outputs": [
    {
     "data": {
      "text/html": [
       "<div>\n",
       "<style scoped>\n",
       "    .dataframe tbody tr th:only-of-type {\n",
       "        vertical-align: middle;\n",
       "    }\n",
       "\n",
       "    .dataframe tbody tr th {\n",
       "        vertical-align: top;\n",
       "    }\n",
       "\n",
       "    .dataframe thead th {\n",
       "        text-align: right;\n",
       "    }\n",
       "</style>\n",
       "<table border=\"1\" class=\"dataframe\">\n",
       "  <thead>\n",
       "    <tr style=\"text-align: right;\">\n",
       "      <th></th>\n",
       "      <th>구</th>\n",
       "      <th>보안등_수</th>\n",
       "    </tr>\n",
       "  </thead>\n",
       "  <tbody>\n",
       "    <tr>\n",
       "      <th>0</th>\n",
       "      <td>가창면</td>\n",
       "      <td>1123</td>\n",
       "    </tr>\n",
       "    <tr>\n",
       "      <th>1</th>\n",
       "      <td>각산동</td>\n",
       "      <td>139</td>\n",
       "    </tr>\n",
       "    <tr>\n",
       "      <th>2</th>\n",
       "      <td>갈산동</td>\n",
       "      <td>351</td>\n",
       "    </tr>\n",
       "    <tr>\n",
       "      <th>3</th>\n",
       "      <td>감삼동</td>\n",
       "      <td>941</td>\n",
       "    </tr>\n",
       "    <tr>\n",
       "      <th>4</th>\n",
       "      <td>검단동</td>\n",
       "      <td>391</td>\n",
       "    </tr>\n",
       "  </tbody>\n",
       "</table>\n",
       "</div>"
      ],
      "text/plain": [
       "     구  보안등_수\n",
       "0  가창면   1123\n",
       "1  각산동    139\n",
       "2  갈산동    351\n",
       "3  감삼동    941\n",
       "4  검단동    391"
      ]
     },
     "execution_count": 33,
     "metadata": {},
     "output_type": "execute_result"
    }
   ],
   "source": [
    "agg_sec_df = light_df[['구', '설치개수']].groupby(['구']).sum().reset_index()\n",
    "agg_sec_df.columns = ['구', '보안등_수']\n",
    "agg_sec_df.head()"
   ]
  },
  {
   "cell_type": "code",
   "execution_count": 34,
   "id": "fa7ee90e-8e40-4bb3-8666-b07eba0ac4d2",
   "metadata": {},
   "outputs": [
    {
     "data": {
      "text/html": [
       "<div>\n",
       "<style scoped>\n",
       "    .dataframe tbody tr th:only-of-type {\n",
       "        vertical-align: middle;\n",
       "    }\n",
       "\n",
       "    .dataframe tbody tr th {\n",
       "        vertical-align: top;\n",
       "    }\n",
       "\n",
       "    .dataframe thead th {\n",
       "        text-align: right;\n",
       "    }\n",
       "</style>\n",
       "<table border=\"1\" class=\"dataframe\">\n",
       "  <thead>\n",
       "    <tr style=\"text-align: right;\">\n",
       "      <th></th>\n",
       "      <th>구</th>\n",
       "      <th>어린이_CCTV_설치대수</th>\n",
       "      <th>어린이구역_수</th>\n",
       "    </tr>\n",
       "  </thead>\n",
       "  <tbody>\n",
       "    <tr>\n",
       "      <th>0</th>\n",
       "      <td>가창면</td>\n",
       "      <td>0.0</td>\n",
       "      <td>8</td>\n",
       "    </tr>\n",
       "    <tr>\n",
       "      <th>1</th>\n",
       "      <td>검단동</td>\n",
       "      <td>4.0</td>\n",
       "      <td>1</td>\n",
       "    </tr>\n",
       "    <tr>\n",
       "      <th>2</th>\n",
       "      <td>고성동1가</td>\n",
       "      <td>2.0</td>\n",
       "      <td>1</td>\n",
       "    </tr>\n",
       "    <tr>\n",
       "      <th>3</th>\n",
       "      <td>고성동2가</td>\n",
       "      <td>2.0</td>\n",
       "      <td>1</td>\n",
       "    </tr>\n",
       "    <tr>\n",
       "      <th>4</th>\n",
       "      <td>관음동</td>\n",
       "      <td>22.0</td>\n",
       "      <td>5</td>\n",
       "    </tr>\n",
       "  </tbody>\n",
       "</table>\n",
       "</div>"
      ],
      "text/plain": [
       "       구  어린이_CCTV_설치대수  어린이구역_수\n",
       "0    가창면            0.0        8\n",
       "1    검단동            4.0        1\n",
       "2  고성동1가            2.0        1\n",
       "3  고성동2가            2.0        1\n",
       "4    관음동           22.0        5"
      ]
     },
     "execution_count": 34,
     "metadata": {},
     "output_type": "execute_result"
    }
   ],
   "source": [
    "child_area_df['count'] = 1\n",
    "agg_child_df = child_area_df[['구', 'CCTV설치대수', 'count']].groupby('구').sum().reset_index()\n",
    "agg_child_df.columns = ['구', '어린이_CCTV_설치대수', '어린이구역_수']\n",
    "agg_child_df.head()"
   ]
  },
  {
   "cell_type": "code",
   "execution_count": 35,
   "id": "44965a1e-501f-48f8-92a0-f05507b50cc2",
   "metadata": {},
   "outputs": [
    {
     "data": {
      "text/html": [
       "<div>\n",
       "<style scoped>\n",
       "    .dataframe tbody tr th:only-of-type {\n",
       "        vertical-align: middle;\n",
       "    }\n",
       "\n",
       "    .dataframe tbody tr th {\n",
       "        vertical-align: top;\n",
       "    }\n",
       "\n",
       "    .dataframe thead th {\n",
       "        text-align: right;\n",
       "    }\n",
       "</style>\n",
       "<table border=\"1\" class=\"dataframe\">\n",
       "  <thead>\n",
       "    <tr style=\"text-align: right;\">\n",
       "      <th></th>\n",
       "      <th>구</th>\n",
       "      <th>주차장_수</th>\n",
       "    </tr>\n",
       "  </thead>\n",
       "  <tbody>\n",
       "    <tr>\n",
       "      <th>0</th>\n",
       "      <td>가창면</td>\n",
       "      <td>2</td>\n",
       "    </tr>\n",
       "    <tr>\n",
       "      <th>1</th>\n",
       "      <td>갈산동</td>\n",
       "      <td>4</td>\n",
       "    </tr>\n",
       "    <tr>\n",
       "      <th>2</th>\n",
       "      <td>감삼동</td>\n",
       "      <td>4</td>\n",
       "    </tr>\n",
       "    <tr>\n",
       "      <th>3</th>\n",
       "      <td>검단동</td>\n",
       "      <td>1</td>\n",
       "    </tr>\n",
       "    <tr>\n",
       "      <th>4</th>\n",
       "      <td>계산동1가</td>\n",
       "      <td>2</td>\n",
       "    </tr>\n",
       "  </tbody>\n",
       "</table>\n",
       "</div>"
      ],
      "text/plain": [
       "       구  주차장_수\n",
       "0    가창면      2\n",
       "1    갈산동      4\n",
       "2    감삼동      4\n",
       "3    검단동      1\n",
       "4  계산동1가      2"
      ]
     },
     "execution_count": 35,
     "metadata": {},
     "output_type": "execute_result"
    }
   ],
   "source": [
    "parking_df['count'] = 1\n",
    "agg_parking_df = parking_df[['구', 'count']].groupby('구').sum().reset_index()\n",
    "agg_parking_df.columns = ['구', '주차장_수']\n",
    "agg_parking_df.head()"
   ]
  },
  {
   "cell_type": "code",
   "execution_count": 36,
   "id": "0ae13088-ed0a-4e41-99dd-28af20c6e6d2",
   "metadata": {},
   "outputs": [
    {
     "name": "stdout",
     "output_type": "stream",
     "text": [
      "(182, 5) 182 ['구', '보안등_수', '어린이_CCTV_설치대수', '어린이구역_수', '주차장_수']\n"
     ]
    }
   ],
   "source": [
    "agg_csv_dfs = [agg_sec_df, agg_child_df, agg_parking_df]\n",
    "\n",
    "agg_csv_df = reduce(lambda left, right: pd.merge(left, right, on='구', how='outer'), agg_csv_dfs)\n",
    "agg_csv_df = agg_csv_df.fillna(0)\n",
    "print(agg_csv_df.shape, len(agg_csv_df['구'].unique()), agg_csv_df.columns.to_list())"
   ]
  },
  {
   "cell_type": "code",
   "execution_count": 37,
   "id": "9c677978-a856-4521-9ab3-8c8597bebcc0",
   "metadata": {},
   "outputs": [
    {
     "name": "stdout",
     "output_type": "stream",
     "text": [
      "(39609, 70) (10963, 55)\n"
     ]
    }
   ],
   "source": [
    "train_df = pd.merge(train_df, agg_csv_df, on='구', how='left').fillna(0)\n",
    "test_df = pd.merge(test_df, agg_csv_df, on='구', how='left').fillna(0)\n",
    "print(train_df.shape, test_df.shape)"
   ]
  },
  {
   "cell_type": "code",
   "execution_count": 40,
   "id": "10005339-f8d1-4e4b-9aaa-e6f0193391cd",
   "metadata": {},
   "outputs": [
    {
     "name": "stdout",
     "output_type": "stream",
     "text": [
      "(39609, 19) (10963, 19)\n"
     ]
    }
   ],
   "source": [
    "features = ['월', '일', '시', '요일', '기상상태', '구',  '도로형태_대', '도로형태_중',  '노면상태', '사고유형', 'old_count',\n",
    "       'jay_count', 'ice_count',  'truck_count', 'walker_count', \n",
    "       '보안등_수', '어린이_CCTV_설치대수', '어린이구역_수', '주차장_수']\n",
    "labels = ['ECLO']\n",
    "\n",
    "# feature selection 재선택\n",
    "X = train_df[features]\n",
    "X_test = test_df[features]\n",
    "\n",
    "y = train_df[labels]\n",
    "\n",
    "print(X.shape, X_test.shape)"
   ]
  },
  {
   "cell_type": "code",
   "execution_count": 41,
   "id": "50338d1b-d4c6-45c1-b2e7-0a2eca20685d",
   "metadata": {},
   "outputs": [],
   "source": [
    "train_x = X.copy()\n",
    "test_x = X_test.copy()\n",
    "train_y = y.copy()"
   ]
  },
  {
   "cell_type": "markdown",
   "id": "ebfcfd72-3bba-4f08-be3e-d07a43c5b40c",
   "metadata": {},
   "source": [
    "# 시군구별 발생횟수 feature 추가"
   ]
  },
  {
   "cell_type": "code",
   "execution_count": null,
   "id": "877a980f-19e0-4228-9082-b8b0467b34bf",
   "metadata": {},
   "outputs": [],
   "source": [
    "accident_counts = train_df['시군구'].value_counts().reset_index()\n",
    "accident_counts.columns = ['시군구', '사고횟수']"
   ]
  },
  {
   "cell_type": "code",
   "execution_count": null,
   "id": "bb21a09f-69a4-48c0-91ff-14a20665a3c1",
   "metadata": {},
   "outputs": [],
   "source": [
    "# '시군구'별 사고 횟수를 train_df에 매핑하기 위해 '시군구' 컬럼을 기준으로 사고 횟수를 가져옵니다.\n",
    "train_df['사고발생횟수'] = train_df['시군구'].map(accident_counts.set_index('시군구')['사고횟수'])"
   ]
  },
  {
   "cell_type": "code",
   "execution_count": null,
   "id": "b484a206-225d-4324-97ed-ff7d4bc1fb36",
   "metadata": {},
   "outputs": [],
   "source": [
    "# '시군구'별 사고 횟수를 train_df에 매핑하기 위해 '시군구' 컬럼을 기준으로 사고 횟수를 가져옵니다.\n",
    "test_df['사고발생횟수'] = train_df['시군구'].map(accident_counts.set_index('시군구')['사고횟수'])"
   ]
  },
  {
   "cell_type": "code",
   "execution_count": null,
   "id": "52939ef0",
   "metadata": {},
   "outputs": [],
   "source": [
    "holi_weekday = ['2019-01-01', '2019-02-04', '2019-02-05', '2019-02-06', '2019-03-01', '2019-05-05', '2019-05-12', '2019-06-06', '2019-08-15', '2019-09-12', '2019-09-13', '2019-09-14', '2019-10-03', '2019-10-09', '2019-12-25',\n",
    "                '2020-01-01' ,'2020-01-24' ,'2020-01-25', '2020-01-26', '2020-03-01', '2020-04-30', '2020-05-05', '2020-06-06', '2020-08-15', '2020-08-17', '2020-09-30', '2020-10-01', '2020-10-02', '2020-10-03', '2020-10-09', '2020-12-25',\n",
    "                '2021-01-01' ,'2021-02-11' ,'2021-02-12', '2021-02-13', '2021-03-01', '2021-05-05', '2021-05-19', '2021-06-06', '2021-08-15', '2021-09-20', '2021-09-21', '2021-09-22', '2021-10-03', '2021-10-09', '2021-12-25',\n",
    "                '2022-01-01' ,'2022-01-31' ,'2022-02-01', '2022-02-02', '2022-03-01', '2022-05-05', '2022-05-08', '2022-06-06', '2022-08-15', '2022-09-09', '2022-09-10', '2022-09-11', '2022-09-12', '2022-10-03', '2022-10-09', '2020-10-10', '2022-12-25',\n",
    "                '2023-01-01' ,'2023-01-21' ,'2023-01-22', '2023-01-23', '2023-01-24', '2023-03-01']"
   ]
  },
  {
   "cell_type": "code",
   "execution_count": null,
   "id": "9c884a88",
   "metadata": {},
   "outputs": [],
   "source": [
    "train_df['사고일시'] = pd.to_datetime(train_df['사고일시'])\n",
    "train_df['day_of_week'] = train_df['사고일시'].dt.dayofweek\n",
    "train_df['holiday'] = np.where((train_df.day_of_week >= 5) | (train_df.사고일시.dt.strftime('%Y-%m-%d').isin(holi_weekday)), 1, 0)"
   ]
  },
  {
   "cell_type": "code",
   "execution_count": null,
   "id": "dbb2a999",
   "metadata": {},
   "outputs": [],
   "source": [
    "test_df['사고일시'] = pd.to_datetime(test_df['사고일시'])\n",
    "test_df['day_of_week'] = test_df['사고일시'].dt.dayofweek\n",
    "test_df['holiday'] = np.where((test_df.day_of_week >= 5) | (test_df.사고일시.dt.strftime('%Y-%m-%d').isin(holi_weekday)), 1, 0)"
   ]
  },
  {
   "cell_type": "code",
   "execution_count": null,
   "id": "e192f5a8",
   "metadata": {},
   "outputs": [],
   "source": [
    "train_df = train_df.drop(columns=['도시','사고유형 - 세부분류','법규위반','가해운전자 차종','가해운전자 성별','가해운전자 연령',\n",
    "                               '가해운전자 상해정도','사망자수','사망자수','중상자수','피해운전자 차종','피해운전자 성별',\n",
    "                      '피해운전자 연령','피해운전자 상해정도','경상자수','부상자수','사고유형 - 세부분류'])"
   ]
  },
  {
   "cell_type": "code",
   "execution_count": null,
   "id": "35faf55f-ab03-4b56-b6ac-805c301d39a8",
   "metadata": {},
   "outputs": [],
   "source": [
    "train_df"
   ]
  },
  {
   "cell_type": "markdown",
   "id": "4d9496e7-9d4a-44a7-8c74-2e5420822c05",
   "metadata": {},
   "source": [
    "# 계절 변수 추가"
   ]
  },
  {
   "cell_type": "code",
   "execution_count": null,
   "id": "9b6ff628-cccc-4c0b-a4eb-9254a753a9d5",
   "metadata": {},
   "outputs": [],
   "source": [
    "def group_season(df):\n",
    "    df.loc[(df['월'] == 3) | (df['월'] == 4) | (df['월'] == 5), '계절'] = '봄'\n",
    "    df.loc[(df['월'] == 6) | (df['월'] == 7) | (df['월'] == 8), '계절'] = '여름'\n",
    "    df.loc[(df['월'] == 9) | (df['월'] == 10) | (df['월'] == 11), '계절'] = '가을'\n",
    "    df.loc[(df['월'] == 12) | (df['월'] == 1) | (df['월'] == 2), '계절'] = '겨울'\n",
    "    return df['계절']\n",
    "\n",
    "train_df['계절'] = group_season(train_df)\n",
    "test_df['계절'] = group_season(test_df)\n",
    "\n",
    "train_df['Cosine_Time'] = np.cos(2 * np.pi * train_df['시간'] / 24)\n",
    "test_df['Cosine_Time'] = np.cos(2 * np.pi * test_df['시간'] / 24)"
   ]
  },
  {
   "cell_type": "markdown",
   "id": "e0eaed4c",
   "metadata": {},
   "source": [
    "### AUTOML"
   ]
  },
  {
   "cell_type": "code",
   "execution_count": 42,
   "id": "8ea1cd32",
   "metadata": {},
   "outputs": [],
   "source": [
    "from sklearn.model_selection import train_test_split\n",
    "x_train, x_valid, y_train, y_valid = train_test_split(train_x, train_y, test_size=0.2, random_state=42)"
   ]
  },
  {
   "cell_type": "code",
   "execution_count": 43,
   "id": "984e92f9",
   "metadata": {},
   "outputs": [],
   "source": [
    "import matplotlib\n",
    "matplotlib.use('Agg')\n",
    "import warnings\n",
    "warnings.filterwarnings(\"ignore\", category=FutureWarning)"
   ]
  },
  {
   "cell_type": "code",
   "execution_count": 44,
   "id": "d7a6805c",
   "metadata": {},
   "outputs": [],
   "source": [
    "from supervised.automl import AutoML\n",
    "automl = AutoML(mode=\"Compete\",\n",
    "                algorithms = ['Random Forest', 'LightGBM', 'Xgboost', 'CatBoost'],\n",
    "                n_jobs = -1,total_time_limit=43200, eval_metric=\"rmse\", ml_task = \"regression\",)\n",
    "#3.209155"
   ]
  },
  {
   "cell_type": "code",
   "execution_count": 45,
   "id": "bd80bdc7",
   "metadata": {},
   "outputs": [
    {
     "name": "stdout",
     "output_type": "stream",
     "text": [
      "AutoML directory: AutoML_2\n",
      "The task is regression with evaluation metric rmse\n",
      "AutoML will use algorithms: ['Random Forest', 'LightGBM', 'Xgboost', 'CatBoost']\n",
      "AutoML will stack models\n",
      "AutoML will ensemble available models\n",
      "AutoML steps: ['adjust_validation', 'simple_algorithms', 'default_algorithms', 'not_so_random', 'mix_encoding', 'golden_features', 'kmeans_features', 'insert_random_feature', 'features_selection', 'hill_climbing_1', 'hill_climbing_2', 'boost_on_errors', 'ensemble', 'stack', 'ensemble_stacked']\n",
      "* Step adjust_validation will try to check up to 1 model\n",
      "1_DecisionTree rmse 3.225564 trained in 0.67 seconds\n",
      "Adjust validation. Remove: 1_DecisionTree\n",
      "Validation strategy: 10-fold CV Shuffle\n",
      "Skip simple_algorithms because no parameters were generated.\n",
      "* Step default_algorithms will try to check up to 4 models\n",
      "1_Default_LightGBM rmse 3.252395 trained in 9.79 seconds\n",
      "2_Default_Xgboost rmse 3.250832 trained in 8.95 seconds\n",
      "3_Default_CatBoost rmse 3.24549 trained in 35.31 seconds\n",
      "4_Default_RandomForest rmse 3.254888 trained in 47.58 seconds\n",
      "* Step not_so_random will try to check up to 36 models\n",
      "14_LightGBM rmse 3.249302 trained in 8.09 seconds\n",
      "5_Xgboost rmse 3.257566 trained in 8.56 seconds\n",
      "23_CatBoost rmse 3.246802 trained in 55.07 seconds\n",
      "32_RandomForest rmse 3.255574 trained in 43.29 seconds\n",
      "15_LightGBM rmse 3.252367 trained in 7.99 seconds\n",
      "6_Xgboost rmse 3.257322 trained in 8.69 seconds\n",
      "24_CatBoost rmse 3.439944 trained in 89.15 seconds\n",
      "33_RandomForest rmse 3.258092 trained in 52.4 seconds\n",
      "16_LightGBM rmse 3.251696 trained in 9.09 seconds\n",
      "7_Xgboost rmse 3.249387 trained in 8.75 seconds\n",
      "25_CatBoost rmse 3.247385 trained in 30.11 seconds\n",
      "34_RandomForest rmse 3.251927 trained in 59.72 seconds\n",
      "17_LightGBM rmse 3.253602 trained in 9.7 seconds\n",
      "8_Xgboost rmse 3.252511 trained in 8.42 seconds\n",
      "26_CatBoost rmse 3.435121 trained in 49.41 seconds\n",
      "35_RandomForest rmse 3.250525 trained in 43.61 seconds\n",
      "18_LightGBM rmse 3.254054 trained in 8.41 seconds\n",
      "9_Xgboost rmse 3.249198 trained in 8.69 seconds\n",
      "27_CatBoost rmse 3.456556 trained in 68.99 seconds\n",
      "36_RandomForest rmse 3.250491 trained in 81.79 seconds\n",
      "19_LightGBM rmse 3.253309 trained in 11.59 seconds\n",
      "10_Xgboost rmse 3.247781 trained in 8.93 seconds\n",
      "28_CatBoost rmse 3.600593 trained in 49.98 seconds\n",
      "37_RandomForest rmse 3.250732 trained in 59.29 seconds\n",
      "20_LightGBM rmse 3.251321 trained in 9.42 seconds\n",
      "11_Xgboost rmse 3.253526 trained in 9.75 seconds\n",
      "29_CatBoost rmse 3.452202 trained in 234.24 seconds\n",
      "38_RandomForest rmse 3.254481 trained in 37.89 seconds\n",
      "21_LightGBM rmse 3.251928 trained in 7.92 seconds\n",
      "12_Xgboost rmse 3.249822 trained in 8.79 seconds\n",
      "30_CatBoost rmse 3.447199 trained in 82.64 seconds\n",
      "39_RandomForest rmse 3.25505 trained in 35.8 seconds\n",
      "22_LightGBM rmse 3.249012 trained in 8.89 seconds\n",
      "13_Xgboost rmse 3.252433 trained in 9.78 seconds\n",
      "31_CatBoost rmse 3.247703 trained in 72.78 seconds\n",
      "40_RandomForest rmse 3.250519 trained in 49.61 seconds\n",
      "* Step mix_encoding will try to check up to 1 model\n",
      "10_Xgboost_categorical_mix rmse 3.252661 trained in 12.1 seconds\n",
      "* Step golden_features will try to check up to 3 models\n",
      "None 10\n",
      "Add Golden Feature: 주차장_수_sum_old_count\n",
      "Add Golden Feature: 어린이구역_수_sum_truck_count\n",
      "Add Golden Feature: 주차장_수_multiply_truck_count\n",
      "Add Golden Feature: 어린이구역_수_multiply_old_count\n",
      "Add Golden Feature: old_count_ratio_ice_count\n",
      "Add Golden Feature: ice_count_ratio_old_count\n",
      "Add Golden Feature: ice_count_multiply_old_count\n",
      "Add Golden Feature: 어린이_CCTV_설치대수_multiply_old_count\n",
      "Add Golden Feature: old_count_ratio_jay_count\n",
      "Add Golden Feature: walker_count_ratio_old_count\n",
      "Created 10 Golden Features in 8.66 seconds.\n",
      "3_Default_CatBoost_GoldenFeatures rmse 3.246636 trained in 43.08 seconds\n",
      "23_CatBoost_GoldenFeatures rmse 3.247742 trained in 48.73 seconds\n",
      "25_CatBoost_GoldenFeatures rmse 3.245816 trained in 39.13 seconds\n",
      "* Step kmeans_features will try to check up to 3 models\n",
      "There was an error during 3_Default_CatBoost_KMeansFeatures training.\n",
      "Please check AutoML_2/errors.md for details.\n",
      "There was an error during 23_CatBoost_KMeansFeatures training.\n",
      "Please check AutoML_2/errors.md for details.\n",
      "There was an error during 25_CatBoost_KMeansFeatures training.\n",
      "Please check AutoML_2/errors.md for details.\n",
      "* Step insert_random_feature will try to check up to 1 model\n",
      "3_Default_CatBoost_RandomFeature rmse 3.246311 trained in 40.04 seconds\n",
      "Drop features ['어린이구역_수', '어린이_CCTV_설치대수', 'old_count', '일', '기상상태', '보안등_수', 'jay_count', 'random_feature', 'ice_count']\n",
      "* Step features_selection will try to check up to 4 models\n",
      "3_Default_CatBoost_SelectedFeatures rmse 3.245592 trained in 28.96 seconds\n",
      "10_Xgboost_SelectedFeatures rmse 3.248395 trained in 8.64 seconds\n",
      "22_LightGBM_SelectedFeatures rmse 3.249299 trained in 8.4 seconds\n",
      "36_RandomForest_SelectedFeatures rmse 3.250324 trained in 42.15 seconds\n",
      "* Step hill_climbing_1 will try to check up to 20 models\n",
      "41_CatBoost rmse 3.246569 trained in 46.96 seconds\n",
      "42_CatBoost rmse 3.245578 trained in 28.02 seconds\n",
      "43_CatBoost_SelectedFeatures rmse 3.246777 trained in 35.85 seconds\n",
      "44_CatBoost_SelectedFeatures rmse 3.246302 trained in 19.46 seconds\n",
      "45_CatBoost_GoldenFeatures rmse 3.246736 trained in 56.97 seconds\n",
      "46_CatBoost_GoldenFeatures rmse 3.246402 trained in 26.27 seconds\n",
      "47_Xgboost rmse 3.24725 trained in 10.32 seconds\n",
      "48_Xgboost rmse 3.247611 trained in 9.69 seconds\n",
      "49_Xgboost_SelectedFeatures rmse 3.246748 trained in 9.45 seconds\n",
      "50_Xgboost_SelectedFeatures rmse 3.247296 trained in 9.21 seconds\n",
      "51_LightGBM rmse 3.248935 trained in 9.32 seconds\n",
      "52_Xgboost rmse 3.250277 trained in 9.13 seconds\n",
      "53_LightGBM_SelectedFeatures rmse 3.248824 trained in 10.65 seconds\n",
      "54_LightGBM rmse 3.248142 trained in 15.46 seconds\n",
      "55_LightGBM rmse 3.249404 trained in 12.98 seconds\n",
      "56_RandomForest_SelectedFeatures rmse 3.250543 trained in 40.02 seconds\n",
      "57_RandomForest_SelectedFeatures rmse 3.250245 trained in 40.04 seconds\n",
      "58_RandomForest rmse 3.250958 trained in 80.42 seconds\n",
      "59_RandomForest rmse 3.25056 trained in 86.71 seconds\n",
      "60_RandomForest rmse 3.250795 trained in 63.29 seconds\n",
      "* Step hill_climbing_2 will try to check up to 10 models\n",
      "61_Xgboost_SelectedFeatures rmse 3.247742 trained in 11.19 seconds\n",
      "62_Xgboost_SelectedFeatures rmse 3.246352 trained in 11.81 seconds\n",
      "63_Xgboost rmse 3.247802 trained in 12.16 seconds\n",
      "64_Xgboost rmse 3.247636 trained in 12.24 seconds\n",
      "65_Xgboost_SelectedFeatures rmse 3.247479 trained in 11.7 seconds\n",
      "66_Xgboost_SelectedFeatures rmse 3.246228 trained in 11.79 seconds\n",
      "67_LightGBM rmse 3.248142 trained in 15.88 seconds\n",
      "68_LightGBM_SelectedFeatures rmse 3.248824 trained in 13.02 seconds\n",
      "69_LightGBM rmse 3.248935 trained in 13.71 seconds\n",
      "70_RandomForest_SelectedFeatures rmse 3.250179 trained in 48.4 seconds\n",
      "* Step boost_on_errors will try to check up to 1 model\n",
      "3_Default_CatBoost_BoostOnErrors rmse 3.237321 trained in 38.08 seconds\n",
      "* Step ensemble will try to check up to 1 model\n",
      "Ensemble rmse 3.237321 trained in 7.02 seconds\n",
      "* Step stack will try to check up to 39 models\n",
      "3_Default_CatBoost_Stacked rmse 3.244834 trained in 33.07 seconds\n",
      "66_Xgboost_SelectedFeatures_Stacked rmse 3.245399 trained in 15.63 seconds\n",
      "54_LightGBM_Stacked rmse 3.244823 trained in 17.62 seconds\n",
      "70_RandomForest_SelectedFeatures_Stacked rmse 3.243016 trained in 304.77 seconds\n",
      "42_CatBoost_Stacked rmse 3.244528 trained in 25.37 seconds\n",
      "62_Xgboost_SelectedFeatures_Stacked rmse 3.245499 trained in 15.65 seconds\n",
      "67_LightGBM_Stacked rmse 3.244823 trained in 17.89 seconds\n",
      "57_RandomForest_SelectedFeatures_Stacked rmse 3.243753 trained in 353.62 seconds\n",
      "3_Default_CatBoost_SelectedFeatures_Stacked rmse 3.244398 trained in 30.81 seconds\n",
      "49_Xgboost_SelectedFeatures_Stacked rmse 3.245834 trained in 15.49 seconds\n",
      "53_LightGBM_SelectedFeatures_Stacked rmse 3.24525 trained in 17.66 seconds\n",
      "36_RandomForest_SelectedFeatures_Stacked rmse 3.243911 trained in 396.09 seconds\n",
      "25_CatBoost_GoldenFeatures_Stacked rmse 3.244734 trained in 38.02 seconds\n",
      "47_Xgboost_Stacked rmse 3.245787 trained in 16.41 seconds\n",
      "68_LightGBM_SelectedFeatures_Stacked rmse 3.24525 trained in 17.77 seconds\n",
      "36_RandomForest_Stacked rmse 3.243735 trained in 449.75 seconds\n",
      "44_CatBoost_SelectedFeatures_Stacked rmse 3.243954 trained in 20.8 seconds\n",
      "50_Xgboost_SelectedFeatures_Stacked rmse 3.244557 trained in 13.29 seconds\n",
      "69_LightGBM_Stacked rmse 3.245319 trained in 14.08 seconds\n",
      "40_RandomForest_Stacked rmse 3.243708 trained in 325.88 seconds\n",
      "46_CatBoost_GoldenFeatures_Stacked rmse 3.244474 trained in 29.32 seconds\n",
      "65_Xgboost_SelectedFeatures_Stacked rmse 3.244941 trained in 13.66 seconds\n",
      "51_LightGBM_Stacked rmse 3.245319 trained in 14.22 seconds\n",
      "35_RandomForest_Stacked rmse 3.24401 trained in 299.6 seconds\n",
      "41_CatBoost_Stacked rmse 3.245305 trained in 33.54 seconds\n",
      "48_Xgboost_Stacked rmse 3.246853 trained in 13.86 seconds\n",
      "22_LightGBM_Stacked rmse 3.245185 trained in 14.56 seconds\n",
      "56_RandomForest_SelectedFeatures_Stacked rmse 3.242902 trained in 362.54 seconds\n",
      "3_Default_CatBoost_GoldenFeatures_Stacked rmse 3.244761 trained in 27.02 seconds\n",
      "64_Xgboost_Stacked rmse 3.244566 trained in 14.48 seconds\n",
      "22_LightGBM_SelectedFeatures_Stacked rmse 3.245135 trained in 14.31 seconds\n",
      "59_RandomForest_Stacked rmse 3.243793 trained in 367.68 seconds\n",
      "45_CatBoost_GoldenFeatures_Stacked rmse 3.244659 trained in 45.35 seconds\n",
      "61_Xgboost_SelectedFeatures_Stacked rmse 3.24568 trained in 13.54 seconds\n",
      "14_LightGBM_Stacked rmse 3.245356 trained in 14.79 seconds\n",
      "37_RandomForest_Stacked rmse 3.243049 trained in 538.21 seconds\n",
      "10_Xgboost_Stacked rmse 3.246026 trained in 14.39 seconds\n",
      "55_LightGBM_Stacked rmse 3.245136 trained in 14.56 seconds\n",
      "60_RandomForest_Stacked rmse 3.243278 trained in 288.16 seconds\n",
      "* Step ensemble_stacked will try to check up to 1 model\n",
      "Ensemble_Stacked rmse 3.237321 trained in 15.46 seconds\n",
      "AutoML fit time: 7013.74 seconds\n",
      "AutoML best model: 3_Default_CatBoost_BoostOnErrors\n"
     ]
    },
    {
     "data": {
      "text/html": [
       "<style>#sk-container-id-2 {color: black;}#sk-container-id-2 pre{padding: 0;}#sk-container-id-2 div.sk-toggleable {background-color: white;}#sk-container-id-2 label.sk-toggleable__label {cursor: pointer;display: block;width: 100%;margin-bottom: 0;padding: 0.3em;box-sizing: border-box;text-align: center;}#sk-container-id-2 label.sk-toggleable__label-arrow:before {content: \"▸\";float: left;margin-right: 0.25em;color: #696969;}#sk-container-id-2 label.sk-toggleable__label-arrow:hover:before {color: black;}#sk-container-id-2 div.sk-estimator:hover label.sk-toggleable__label-arrow:before {color: black;}#sk-container-id-2 div.sk-toggleable__content {max-height: 0;max-width: 0;overflow: hidden;text-align: left;background-color: #f0f8ff;}#sk-container-id-2 div.sk-toggleable__content pre {margin: 0.2em;color: black;border-radius: 0.25em;background-color: #f0f8ff;}#sk-container-id-2 input.sk-toggleable__control:checked~div.sk-toggleable__content {max-height: 200px;max-width: 100%;overflow: auto;}#sk-container-id-2 input.sk-toggleable__control:checked~label.sk-toggleable__label-arrow:before {content: \"▾\";}#sk-container-id-2 div.sk-estimator input.sk-toggleable__control:checked~label.sk-toggleable__label {background-color: #d4ebff;}#sk-container-id-2 div.sk-label input.sk-toggleable__control:checked~label.sk-toggleable__label {background-color: #d4ebff;}#sk-container-id-2 input.sk-hidden--visually {border: 0;clip: rect(1px 1px 1px 1px);clip: rect(1px, 1px, 1px, 1px);height: 1px;margin: -1px;overflow: hidden;padding: 0;position: absolute;width: 1px;}#sk-container-id-2 div.sk-estimator {font-family: monospace;background-color: #f0f8ff;border: 1px dotted black;border-radius: 0.25em;box-sizing: border-box;margin-bottom: 0.5em;}#sk-container-id-2 div.sk-estimator:hover {background-color: #d4ebff;}#sk-container-id-2 div.sk-parallel-item::after {content: \"\";width: 100%;border-bottom: 1px solid gray;flex-grow: 1;}#sk-container-id-2 div.sk-label:hover label.sk-toggleable__label {background-color: #d4ebff;}#sk-container-id-2 div.sk-serial::before {content: \"\";position: absolute;border-left: 1px solid gray;box-sizing: border-box;top: 0;bottom: 0;left: 50%;z-index: 0;}#sk-container-id-2 div.sk-serial {display: flex;flex-direction: column;align-items: center;background-color: white;padding-right: 0.2em;padding-left: 0.2em;position: relative;}#sk-container-id-2 div.sk-item {position: relative;z-index: 1;}#sk-container-id-2 div.sk-parallel {display: flex;align-items: stretch;justify-content: center;background-color: white;position: relative;}#sk-container-id-2 div.sk-item::before, #sk-container-id-2 div.sk-parallel-item::before {content: \"\";position: absolute;border-left: 1px solid gray;box-sizing: border-box;top: 0;bottom: 0;left: 50%;z-index: -1;}#sk-container-id-2 div.sk-parallel-item {display: flex;flex-direction: column;z-index: 1;position: relative;background-color: white;}#sk-container-id-2 div.sk-parallel-item:first-child::after {align-self: flex-end;width: 50%;}#sk-container-id-2 div.sk-parallel-item:last-child::after {align-self: flex-start;width: 50%;}#sk-container-id-2 div.sk-parallel-item:only-child::after {width: 0;}#sk-container-id-2 div.sk-dashed-wrapped {border: 1px dashed gray;margin: 0 0.4em 0.5em 0.4em;box-sizing: border-box;padding-bottom: 0.4em;background-color: white;}#sk-container-id-2 div.sk-label label {font-family: monospace;font-weight: bold;display: inline-block;line-height: 1.2em;}#sk-container-id-2 div.sk-label-container {text-align: center;}#sk-container-id-2 div.sk-container {/* jupyter's `normalize.less` sets `[hidden] { display: none; }` but bootstrap.min.css set `[hidden] { display: none !important; }` so we also need the `!important` here to be able to override the default hidden behavior on the sphinx rendered scikit-learn.org. See: https://github.com/scikit-learn/scikit-learn/issues/21755 */display: inline-block !important;position: relative;}#sk-container-id-2 div.sk-text-repr-fallback {display: none;}</style><div id=\"sk-container-id-2\" class=\"sk-top-container\"><div class=\"sk-text-repr-fallback\"><pre>AutoML(algorithms=[&#x27;Random Forest&#x27;, &#x27;LightGBM&#x27;, &#x27;Xgboost&#x27;, &#x27;CatBoost&#x27;],\n",
       "       eval_metric=&#x27;rmse&#x27;, ml_task=&#x27;regression&#x27;, mode=&#x27;Compete&#x27;,\n",
       "       total_time_limit=43200)</pre><b>In a Jupyter environment, please rerun this cell to show the HTML representation or trust the notebook. <br />On GitHub, the HTML representation is unable to render, please try loading this page with nbviewer.org.</b></div><div class=\"sk-container\" hidden><div class=\"sk-item\"><div class=\"sk-estimator sk-toggleable\"><input class=\"sk-toggleable__control sk-hidden--visually\" id=\"sk-estimator-id-2\" type=\"checkbox\" checked><label for=\"sk-estimator-id-2\" class=\"sk-toggleable__label sk-toggleable__label-arrow\">AutoML</label><div class=\"sk-toggleable__content\"><pre>AutoML(algorithms=[&#x27;Random Forest&#x27;, &#x27;LightGBM&#x27;, &#x27;Xgboost&#x27;, &#x27;CatBoost&#x27;],\n",
       "       eval_metric=&#x27;rmse&#x27;, ml_task=&#x27;regression&#x27;, mode=&#x27;Compete&#x27;,\n",
       "       total_time_limit=43200)</pre></div></div></div></div></div>"
      ],
      "text/plain": [
       "AutoML(algorithms=['Random Forest', 'LightGBM', 'Xgboost', 'CatBoost'],\n",
       "       eval_metric='rmse', ml_task='regression', mode='Compete',\n",
       "       total_time_limit=43200)"
      ]
     },
     "execution_count": 45,
     "metadata": {},
     "output_type": "execute_result"
    }
   ],
   "source": [
    "automl.fit(train_x, train_y)"
   ]
  },
  {
   "cell_type": "code",
   "execution_count": 46,
   "id": "38ced85f",
   "metadata": {},
   "outputs": [],
   "source": [
    "pred = automl.predict(test_x)"
   ]
  },
  {
   "cell_type": "markdown",
   "id": "b712b5fa-db4b-439e-9ac6-63a243156c8a",
   "metadata": {},
   "source": [
    "## 제출"
   ]
  },
  {
   "cell_type": "code",
   "execution_count": 47,
   "id": "7ccdf382",
   "metadata": {},
   "outputs": [],
   "source": [
    "submission = pd.read_csv('open/sample_submission.csv')"
   ]
  },
  {
   "cell_type": "code",
   "execution_count": 48,
   "id": "053b6fb3",
   "metadata": {},
   "outputs": [],
   "source": [
    "submission['ECLO'] = pred"
   ]
  },
  {
   "cell_type": "code",
   "execution_count": 49,
   "id": "11fb21af",
   "metadata": {},
   "outputs": [],
   "source": [
    "submission.loc[ submission['ECLO'] < 0.0, 'ECLO'] = 0.0"
   ]
  },
  {
   "cell_type": "code",
   "execution_count": 50,
   "id": "ad53d39e",
   "metadata": {},
   "outputs": [
    {
     "data": {
      "text/plain": [
       "2.738756682287239"
      ]
     },
     "execution_count": 50,
     "metadata": {},
     "output_type": "execute_result"
    }
   ],
   "source": [
    "min(submission['ECLO'])"
   ]
  },
  {
   "cell_type": "code",
   "execution_count": 51,
   "id": "31606475",
   "metadata": {},
   "outputs": [],
   "source": [
    "submission.to_csv('submit.csv', index=False)"
   ]
  },
  {
   "cell_type": "code",
   "execution_count": 52,
   "id": "451d1e07",
   "metadata": {},
   "outputs": [
    {
     "data": {
      "text/html": [
       "<div>\n",
       "<style scoped>\n",
       "    .dataframe tbody tr th:only-of-type {\n",
       "        vertical-align: middle;\n",
       "    }\n",
       "\n",
       "    .dataframe tbody tr th {\n",
       "        vertical-align: top;\n",
       "    }\n",
       "\n",
       "    .dataframe thead th {\n",
       "        text-align: right;\n",
       "    }\n",
       "</style>\n",
       "<table border=\"1\" class=\"dataframe\">\n",
       "  <thead>\n",
       "    <tr style=\"text-align: right;\">\n",
       "      <th></th>\n",
       "      <th>ID</th>\n",
       "      <th>ECLO</th>\n",
       "    </tr>\n",
       "  </thead>\n",
       "  <tbody>\n",
       "    <tr>\n",
       "      <th>0</th>\n",
       "      <td>ACCIDENT_39609</td>\n",
       "      <td>3.949221</td>\n",
       "    </tr>\n",
       "    <tr>\n",
       "      <th>1</th>\n",
       "      <td>ACCIDENT_39610</td>\n",
       "      <td>3.506143</td>\n",
       "    </tr>\n",
       "    <tr>\n",
       "      <th>2</th>\n",
       "      <td>ACCIDENT_39611</td>\n",
       "      <td>4.700391</td>\n",
       "    </tr>\n",
       "    <tr>\n",
       "      <th>3</th>\n",
       "      <td>ACCIDENT_39612</td>\n",
       "      <td>4.314294</td>\n",
       "    </tr>\n",
       "    <tr>\n",
       "      <th>4</th>\n",
       "      <td>ACCIDENT_39613</td>\n",
       "      <td>4.503708</td>\n",
       "    </tr>\n",
       "    <tr>\n",
       "      <th>...</th>\n",
       "      <td>...</td>\n",
       "      <td>...</td>\n",
       "    </tr>\n",
       "    <tr>\n",
       "      <th>10958</th>\n",
       "      <td>ACCIDENT_50567</td>\n",
       "      <td>4.692715</td>\n",
       "    </tr>\n",
       "    <tr>\n",
       "      <th>10959</th>\n",
       "      <td>ACCIDENT_50568</td>\n",
       "      <td>4.381430</td>\n",
       "    </tr>\n",
       "    <tr>\n",
       "      <th>10960</th>\n",
       "      <td>ACCIDENT_50569</td>\n",
       "      <td>4.324387</td>\n",
       "    </tr>\n",
       "    <tr>\n",
       "      <th>10961</th>\n",
       "      <td>ACCIDENT_50570</td>\n",
       "      <td>4.396126</td>\n",
       "    </tr>\n",
       "    <tr>\n",
       "      <th>10962</th>\n",
       "      <td>ACCIDENT_50571</td>\n",
       "      <td>4.160027</td>\n",
       "    </tr>\n",
       "  </tbody>\n",
       "</table>\n",
       "<p>10963 rows × 2 columns</p>\n",
       "</div>"
      ],
      "text/plain": [
       "                   ID      ECLO\n",
       "0      ACCIDENT_39609  3.949221\n",
       "1      ACCIDENT_39610  3.506143\n",
       "2      ACCIDENT_39611  4.700391\n",
       "3      ACCIDENT_39612  4.314294\n",
       "4      ACCIDENT_39613  4.503708\n",
       "...               ...       ...\n",
       "10958  ACCIDENT_50567  4.692715\n",
       "10959  ACCIDENT_50568  4.381430\n",
       "10960  ACCIDENT_50569  4.324387\n",
       "10961  ACCIDENT_50570  4.396126\n",
       "10962  ACCIDENT_50571  4.160027\n",
       "\n",
       "[10963 rows x 2 columns]"
      ]
     },
     "execution_count": 52,
     "metadata": {},
     "output_type": "execute_result"
    }
   ],
   "source": [
    "submission"
   ]
  },
  {
   "cell_type": "code",
   "execution_count": null,
   "id": "0c684519-ed25-4fea-98b3-522a12e37672",
   "metadata": {},
   "outputs": [],
   "source": []
  }
 ],
 "metadata": {
  "kernelspec": {
   "display_name": "Python 3 (ipykernel)",
   "language": "python",
   "name": "python3"
  },
  "language_info": {
   "codemirror_mode": {
    "name": "ipython",
    "version": 3
   },
   "file_extension": ".py",
   "mimetype": "text/x-python",
   "name": "python",
   "nbconvert_exporter": "python",
   "pygments_lexer": "ipython3",
   "version": "3.10.9"
  }
 },
 "nbformat": 4,
 "nbformat_minor": 5
}
